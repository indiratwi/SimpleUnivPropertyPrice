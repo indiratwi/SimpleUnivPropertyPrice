{
  "cells": [
    {
      "cell_type": "markdown",
      "metadata": {
        "id": "view-in-github",
        "colab_type": "text"
      },
      "source": [
        "<a href=\"https://colab.research.google.com/github/indiratwi/SimpleUnivPropertyPrice/blob/main/Simple_Univariate_Analysis_Property_Price.ipynb\" target=\"_parent\"><img src=\"https://colab.research.google.com/assets/colab-badge.svg\" alt=\"Open In Colab\"/></a>"
      ]
    },
    {
      "cell_type": "markdown",
      "source": [
        "Before we start the session, import the library."
      ],
      "metadata": {
        "id": "-BFRr-VWFMDW"
      }
    },
    {
      "cell_type": "code",
      "execution_count": 2,
      "metadata": {
        "id": "6WPfRi5lir66",
        "colab": {
          "base_uri": "https://localhost:8080/"
        },
        "outputId": "b4b09b39-1f90-4db6-85e6-9725e7cd9b82"
      },
      "outputs": [
        {
          "output_type": "stream",
          "name": "stdout",
          "text": [
            "Library has loaded and session will be started.\n"
          ]
        }
      ],
      "source": [
        "#Import library\n",
        "import pandas as pd\n",
        "import numpy as np\n",
        "import matplotlib.pyplot as plt\n",
        "import seaborn as sns\n",
        "import statistics\n",
        "sns.set()\n",
        "\n",
        "print(\"Library has loaded and session will be started.\")"
      ]
    },
    {
      "cell_type": "markdown",
      "metadata": {
        "id": "n-LykPmWixgx"
      },
      "source": [
        "# Simple Univariate Analysis"
      ]
    },
    {
      "cell_type": "markdown",
      "metadata": {
        "id": "3BkvaREikQIu"
      },
      "source": [
        "In this code, we'll conduct simple univariate analysis each variable in dataset Property Price in Kuala Lumpur. The purpose of simple univariate analysis to describe, summary, and find the pattern of each variable one by one."
      ]
    },
    {
      "cell_type": "code",
      "execution_count": 3,
      "metadata": {
        "colab": {
          "base_uri": "https://localhost:8080/",
          "height": 772
        },
        "id": "WJBl16CdsDMe",
        "outputId": "8fb64a33-4c60-44da-a196-f054ba8e84a9"
      },
      "outputs": [
        {
          "output_type": "execute_result",
          "data": {
            "text/plain": [
              "                             Location         Price Rooms  Bathrooms  \\\n",
              "0                  KLCC, Kuala Lumpur  RM 1,250,000   2+1        3.0   \n",
              "1     Damansara Heights, Kuala Lumpur  RM 6,800,000     6        7.0   \n",
              "2               Dutamas, Kuala Lumpur  RM 1,030,000     3        4.0   \n",
              "3                Cheras, Kuala Lumpur           NaN   NaN        NaN   \n",
              "4           Bukit Jalil, Kuala Lumpur    RM 900,000   4+1        3.0   \n",
              "5   Taman Tun Dr Ismail, Kuala Lumpur  RM 5,350,000   4+2        5.0   \n",
              "6               Seputeh, Kuala Lumpur           NaN   NaN        NaN   \n",
              "7   Taman Tun Dr Ismail, Kuala Lumpur  RM 2,600,000     5        4.0   \n",
              "8   Taman Tun Dr Ismail, Kuala Lumpur  RM 1,950,000   4+1        4.0   \n",
              "9          Sri Petaling, Kuala Lumpur    RM 385,000     3        2.0   \n",
              "10         Ampang Hilir, Kuala Lumpur           NaN   NaN        NaN   \n",
              "11  Taman Tun Dr Ismail, Kuala Lumpur  RM 1,680,000     4        3.0   \n",
              "12  Taman Tun Dr Ismail, Kuala Lumpur  RM 1,700,000   3+1        3.0   \n",
              "13  Taman Tun Dr Ismail, Kuala Lumpur  RM 4,580,000   6+1        5.0   \n",
              "14          Bukit Jalil, Kuala Lumpur           NaN   NaN        NaN   \n",
              "\n",
              "    Car Parks                            Property Type  \\\n",
              "0         2.0                       Serviced Residence   \n",
              "1         NaN                                 Bungalow   \n",
              "2         2.0                     Condominium (Corner)   \n",
              "3         NaN                                      NaN   \n",
              "4         2.0                     Condominium (Corner)   \n",
              "5         4.0                                 Bungalow   \n",
              "6         NaN                                      NaN   \n",
              "7         4.0                      Semi-detached House   \n",
              "8         3.0        2-sty Terrace/Link House (EndLot)   \n",
              "9         1.0                 Apartment (Intermediate)   \n",
              "10        NaN                                      NaN   \n",
              "11        NaN  2-sty Terrace/Link House (Intermediate)   \n",
              "12        NaN  2-sty Terrace/Link House (Intermediate)   \n",
              "13        5.0                  Bungalow (Intermediate)   \n",
              "14        NaN                                      NaN   \n",
              "\n",
              "                           Size        Furnishing  \n",
              "0      Built-up : 1,335 sq. ft.   Fully Furnished  \n",
              "1      Land area : 6900 sq. ft.  Partly Furnished  \n",
              "2      Built-up : 1,875 sq. ft.  Partly Furnished  \n",
              "3                           NaN               NaN  \n",
              "4      Built-up : 1,513 sq. ft.  Partly Furnished  \n",
              "5      Land area : 7200 sq. ft.  Partly Furnished  \n",
              "6                           NaN               NaN  \n",
              "7      Land area : 3600 sq. ft.  Partly Furnished  \n",
              "8     Land area : 25x75 sq. ft.  Partly Furnished  \n",
              "9        Built-up : 904 sq. ft.  Partly Furnished  \n",
              "10                          NaN               NaN  \n",
              "11  Land area : 22 x 80 sq. ft.  Partly Furnished  \n",
              "12     Land area : 1900 sq. ft.  Partly Furnished  \n",
              "13     Land area : 6000 sq. ft.  Partly Furnished  \n",
              "14                          NaN               NaN  "
            ],
            "text/html": [
              "\n",
              "  <div id=\"df-c76e88dd-d6bb-4c7e-adc1-102c0d210309\">\n",
              "    <div class=\"colab-df-container\">\n",
              "      <div>\n",
              "<style scoped>\n",
              "    .dataframe tbody tr th:only-of-type {\n",
              "        vertical-align: middle;\n",
              "    }\n",
              "\n",
              "    .dataframe tbody tr th {\n",
              "        vertical-align: top;\n",
              "    }\n",
              "\n",
              "    .dataframe thead th {\n",
              "        text-align: right;\n",
              "    }\n",
              "</style>\n",
              "<table border=\"1\" class=\"dataframe\">\n",
              "  <thead>\n",
              "    <tr style=\"text-align: right;\">\n",
              "      <th></th>\n",
              "      <th>Location</th>\n",
              "      <th>Price</th>\n",
              "      <th>Rooms</th>\n",
              "      <th>Bathrooms</th>\n",
              "      <th>Car Parks</th>\n",
              "      <th>Property Type</th>\n",
              "      <th>Size</th>\n",
              "      <th>Furnishing</th>\n",
              "    </tr>\n",
              "  </thead>\n",
              "  <tbody>\n",
              "    <tr>\n",
              "      <th>0</th>\n",
              "      <td>KLCC, Kuala Lumpur</td>\n",
              "      <td>RM 1,250,000</td>\n",
              "      <td>2+1</td>\n",
              "      <td>3.0</td>\n",
              "      <td>2.0</td>\n",
              "      <td>Serviced Residence</td>\n",
              "      <td>Built-up : 1,335 sq. ft.</td>\n",
              "      <td>Fully Furnished</td>\n",
              "    </tr>\n",
              "    <tr>\n",
              "      <th>1</th>\n",
              "      <td>Damansara Heights, Kuala Lumpur</td>\n",
              "      <td>RM 6,800,000</td>\n",
              "      <td>6</td>\n",
              "      <td>7.0</td>\n",
              "      <td>NaN</td>\n",
              "      <td>Bungalow</td>\n",
              "      <td>Land area : 6900 sq. ft.</td>\n",
              "      <td>Partly Furnished</td>\n",
              "    </tr>\n",
              "    <tr>\n",
              "      <th>2</th>\n",
              "      <td>Dutamas, Kuala Lumpur</td>\n",
              "      <td>RM 1,030,000</td>\n",
              "      <td>3</td>\n",
              "      <td>4.0</td>\n",
              "      <td>2.0</td>\n",
              "      <td>Condominium (Corner)</td>\n",
              "      <td>Built-up : 1,875 sq. ft.</td>\n",
              "      <td>Partly Furnished</td>\n",
              "    </tr>\n",
              "    <tr>\n",
              "      <th>3</th>\n",
              "      <td>Cheras, Kuala Lumpur</td>\n",
              "      <td>NaN</td>\n",
              "      <td>NaN</td>\n",
              "      <td>NaN</td>\n",
              "      <td>NaN</td>\n",
              "      <td>NaN</td>\n",
              "      <td>NaN</td>\n",
              "      <td>NaN</td>\n",
              "    </tr>\n",
              "    <tr>\n",
              "      <th>4</th>\n",
              "      <td>Bukit Jalil, Kuala Lumpur</td>\n",
              "      <td>RM 900,000</td>\n",
              "      <td>4+1</td>\n",
              "      <td>3.0</td>\n",
              "      <td>2.0</td>\n",
              "      <td>Condominium (Corner)</td>\n",
              "      <td>Built-up : 1,513 sq. ft.</td>\n",
              "      <td>Partly Furnished</td>\n",
              "    </tr>\n",
              "    <tr>\n",
              "      <th>5</th>\n",
              "      <td>Taman Tun Dr Ismail, Kuala Lumpur</td>\n",
              "      <td>RM 5,350,000</td>\n",
              "      <td>4+2</td>\n",
              "      <td>5.0</td>\n",
              "      <td>4.0</td>\n",
              "      <td>Bungalow</td>\n",
              "      <td>Land area : 7200 sq. ft.</td>\n",
              "      <td>Partly Furnished</td>\n",
              "    </tr>\n",
              "    <tr>\n",
              "      <th>6</th>\n",
              "      <td>Seputeh, Kuala Lumpur</td>\n",
              "      <td>NaN</td>\n",
              "      <td>NaN</td>\n",
              "      <td>NaN</td>\n",
              "      <td>NaN</td>\n",
              "      <td>NaN</td>\n",
              "      <td>NaN</td>\n",
              "      <td>NaN</td>\n",
              "    </tr>\n",
              "    <tr>\n",
              "      <th>7</th>\n",
              "      <td>Taman Tun Dr Ismail, Kuala Lumpur</td>\n",
              "      <td>RM 2,600,000</td>\n",
              "      <td>5</td>\n",
              "      <td>4.0</td>\n",
              "      <td>4.0</td>\n",
              "      <td>Semi-detached House</td>\n",
              "      <td>Land area : 3600 sq. ft.</td>\n",
              "      <td>Partly Furnished</td>\n",
              "    </tr>\n",
              "    <tr>\n",
              "      <th>8</th>\n",
              "      <td>Taman Tun Dr Ismail, Kuala Lumpur</td>\n",
              "      <td>RM 1,950,000</td>\n",
              "      <td>4+1</td>\n",
              "      <td>4.0</td>\n",
              "      <td>3.0</td>\n",
              "      <td>2-sty Terrace/Link House (EndLot)</td>\n",
              "      <td>Land area : 25x75 sq. ft.</td>\n",
              "      <td>Partly Furnished</td>\n",
              "    </tr>\n",
              "    <tr>\n",
              "      <th>9</th>\n",
              "      <td>Sri Petaling, Kuala Lumpur</td>\n",
              "      <td>RM 385,000</td>\n",
              "      <td>3</td>\n",
              "      <td>2.0</td>\n",
              "      <td>1.0</td>\n",
              "      <td>Apartment (Intermediate)</td>\n",
              "      <td>Built-up : 904 sq. ft.</td>\n",
              "      <td>Partly Furnished</td>\n",
              "    </tr>\n",
              "    <tr>\n",
              "      <th>10</th>\n",
              "      <td>Ampang Hilir, Kuala Lumpur</td>\n",
              "      <td>NaN</td>\n",
              "      <td>NaN</td>\n",
              "      <td>NaN</td>\n",
              "      <td>NaN</td>\n",
              "      <td>NaN</td>\n",
              "      <td>NaN</td>\n",
              "      <td>NaN</td>\n",
              "    </tr>\n",
              "    <tr>\n",
              "      <th>11</th>\n",
              "      <td>Taman Tun Dr Ismail, Kuala Lumpur</td>\n",
              "      <td>RM 1,680,000</td>\n",
              "      <td>4</td>\n",
              "      <td>3.0</td>\n",
              "      <td>NaN</td>\n",
              "      <td>2-sty Terrace/Link House (Intermediate)</td>\n",
              "      <td>Land area : 22 x 80 sq. ft.</td>\n",
              "      <td>Partly Furnished</td>\n",
              "    </tr>\n",
              "    <tr>\n",
              "      <th>12</th>\n",
              "      <td>Taman Tun Dr Ismail, Kuala Lumpur</td>\n",
              "      <td>RM 1,700,000</td>\n",
              "      <td>3+1</td>\n",
              "      <td>3.0</td>\n",
              "      <td>NaN</td>\n",
              "      <td>2-sty Terrace/Link House (Intermediate)</td>\n",
              "      <td>Land area : 1900 sq. ft.</td>\n",
              "      <td>Partly Furnished</td>\n",
              "    </tr>\n",
              "    <tr>\n",
              "      <th>13</th>\n",
              "      <td>Taman Tun Dr Ismail, Kuala Lumpur</td>\n",
              "      <td>RM 4,580,000</td>\n",
              "      <td>6+1</td>\n",
              "      <td>5.0</td>\n",
              "      <td>5.0</td>\n",
              "      <td>Bungalow (Intermediate)</td>\n",
              "      <td>Land area : 6000 sq. ft.</td>\n",
              "      <td>Partly Furnished</td>\n",
              "    </tr>\n",
              "    <tr>\n",
              "      <th>14</th>\n",
              "      <td>Bukit Jalil, Kuala Lumpur</td>\n",
              "      <td>NaN</td>\n",
              "      <td>NaN</td>\n",
              "      <td>NaN</td>\n",
              "      <td>NaN</td>\n",
              "      <td>NaN</td>\n",
              "      <td>NaN</td>\n",
              "      <td>NaN</td>\n",
              "    </tr>\n",
              "  </tbody>\n",
              "</table>\n",
              "</div>\n",
              "      <button class=\"colab-df-convert\" onclick=\"convertToInteractive('df-c76e88dd-d6bb-4c7e-adc1-102c0d210309')\"\n",
              "              title=\"Convert this dataframe to an interactive table.\"\n",
              "              style=\"display:none;\">\n",
              "        \n",
              "  <svg xmlns=\"http://www.w3.org/2000/svg\" height=\"24px\"viewBox=\"0 0 24 24\"\n",
              "       width=\"24px\">\n",
              "    <path d=\"M0 0h24v24H0V0z\" fill=\"none\"/>\n",
              "    <path d=\"M18.56 5.44l.94 2.06.94-2.06 2.06-.94-2.06-.94-.94-2.06-.94 2.06-2.06.94zm-11 1L8.5 8.5l.94-2.06 2.06-.94-2.06-.94L8.5 2.5l-.94 2.06-2.06.94zm10 10l.94 2.06.94-2.06 2.06-.94-2.06-.94-.94-2.06-.94 2.06-2.06.94z\"/><path d=\"M17.41 7.96l-1.37-1.37c-.4-.4-.92-.59-1.43-.59-.52 0-1.04.2-1.43.59L10.3 9.45l-7.72 7.72c-.78.78-.78 2.05 0 2.83L4 21.41c.39.39.9.59 1.41.59.51 0 1.02-.2 1.41-.59l7.78-7.78 2.81-2.81c.8-.78.8-2.07 0-2.86zM5.41 20L4 18.59l7.72-7.72 1.47 1.35L5.41 20z\"/>\n",
              "  </svg>\n",
              "      </button>\n",
              "      \n",
              "  <style>\n",
              "    .colab-df-container {\n",
              "      display:flex;\n",
              "      flex-wrap:wrap;\n",
              "      gap: 12px;\n",
              "    }\n",
              "\n",
              "    .colab-df-convert {\n",
              "      background-color: #E8F0FE;\n",
              "      border: none;\n",
              "      border-radius: 50%;\n",
              "      cursor: pointer;\n",
              "      display: none;\n",
              "      fill: #1967D2;\n",
              "      height: 32px;\n",
              "      padding: 0 0 0 0;\n",
              "      width: 32px;\n",
              "    }\n",
              "\n",
              "    .colab-df-convert:hover {\n",
              "      background-color: #E2EBFA;\n",
              "      box-shadow: 0px 1px 2px rgba(60, 64, 67, 0.3), 0px 1px 3px 1px rgba(60, 64, 67, 0.15);\n",
              "      fill: #174EA6;\n",
              "    }\n",
              "\n",
              "    [theme=dark] .colab-df-convert {\n",
              "      background-color: #3B4455;\n",
              "      fill: #D2E3FC;\n",
              "    }\n",
              "\n",
              "    [theme=dark] .colab-df-convert:hover {\n",
              "      background-color: #434B5C;\n",
              "      box-shadow: 0px 1px 3px 1px rgba(0, 0, 0, 0.15);\n",
              "      filter: drop-shadow(0px 1px 2px rgba(0, 0, 0, 0.3));\n",
              "      fill: #FFFFFF;\n",
              "    }\n",
              "  </style>\n",
              "\n",
              "      <script>\n",
              "        const buttonEl =\n",
              "          document.querySelector('#df-c76e88dd-d6bb-4c7e-adc1-102c0d210309 button.colab-df-convert');\n",
              "        buttonEl.style.display =\n",
              "          google.colab.kernel.accessAllowed ? 'block' : 'none';\n",
              "\n",
              "        async function convertToInteractive(key) {\n",
              "          const element = document.querySelector('#df-c76e88dd-d6bb-4c7e-adc1-102c0d210309');\n",
              "          const dataTable =\n",
              "            await google.colab.kernel.invokeFunction('convertToInteractive',\n",
              "                                                     [key], {});\n",
              "          if (!dataTable) return;\n",
              "\n",
              "          const docLinkHtml = 'Like what you see? Visit the ' +\n",
              "            '<a target=\"_blank\" href=https://colab.research.google.com/notebooks/data_table.ipynb>data table notebook</a>'\n",
              "            + ' to learn more about interactive tables.';\n",
              "          element.innerHTML = '';\n",
              "          dataTable['output_type'] = 'display_data';\n",
              "          await google.colab.output.renderOutput(dataTable, element);\n",
              "          const docLink = document.createElement('div');\n",
              "          docLink.innerHTML = docLinkHtml;\n",
              "          element.appendChild(docLink);\n",
              "        }\n",
              "      </script>\n",
              "    </div>\n",
              "  </div>\n",
              "  "
            ]
          },
          "metadata": {},
          "execution_count": 3
        }
      ],
      "source": [
        "#Load dataset from Github into dataframe\n",
        "raw_link = 'https://raw.githubusercontent.com/indiratwi/SimpleUnivPropertyPrice/main/Property%20Listings%20in%20Kuala%20Lumpur.csv?token=GHSAT0AAAAAACDZNA3IN3GL73NXNEILY7Q4ZEP2LRA'\n",
        "df = pd.read_csv(raw_link)\n",
        "#Display top 15 rows dataset\n",
        "df.head(15)"
      ]
    },
    {
      "cell_type": "code",
      "execution_count": 4,
      "metadata": {
        "colab": {
          "base_uri": "https://localhost:8080/"
        },
        "id": "q1ahnxTFkah3",
        "outputId": "3873b33e-b91a-4e01-f0cf-d48c3f81025a"
      },
      "outputs": [
        {
          "output_type": "stream",
          "name": "stdout",
          "text": [
            "<class 'pandas.core.frame.DataFrame'>\n",
            "RangeIndex: 5000 entries, 0 to 4999\n",
            "Data columns (total 8 columns):\n",
            " #   Column         Non-Null Count  Dtype  \n",
            "---  ------         --------------  -----  \n",
            " 0   Location       5000 non-null   object \n",
            " 1   Price          4964 non-null   object \n",
            " 2   Rooms          4865 non-null   object \n",
            " 3   Bathrooms      4842 non-null   float64\n",
            " 4   Car Parks      3460 non-null   float64\n",
            " 5   Property Type  4975 non-null   object \n",
            " 6   Size           4890 non-null   object \n",
            " 7   Furnishing     4414 non-null   object \n",
            "dtypes: float64(2), object(6)\n",
            "memory usage: 312.6+ KB\n"
          ]
        }
      ],
      "source": [
        "df.info()"
      ]
    },
    {
      "cell_type": "markdown",
      "metadata": {
        "id": "NLrmQoGIPneB"
      },
      "source": [
        "From data sampling and dataframe information above, we should conduct data cleansing such as drop missing values, fill missing values, and convert the variable into proper type in order to analyze dataset further."
      ]
    },
    {
      "cell_type": "markdown",
      "metadata": {
        "id": "1GX4_BnMOoV9"
      },
      "source": [
        "## **Data Clansing**"
      ]
    },
    {
      "cell_type": "markdown",
      "metadata": {
        "id": "kH_CY0M35sl8"
      },
      "source": [
        "As we can see in data sampling, there are several rows with NaN values in both Price and Rooms variable which could't be analyzed further. These rows should be dropped with the following code:"
      ]
    },
    {
      "cell_type": "code",
      "execution_count": 5,
      "metadata": {
        "id": "8ekh281yPiUW"
      },
      "outputs": [],
      "source": [
        "#Index of Rows with NaN values in Price & Rooms\n",
        "indexNaN_Price_Rooms = df[(df['Price'].isna()) & (df['Rooms'].isna())].index\n",
        "#Drop rows with the index\n",
        "df.drop(indexNaN_Price_Rooms,inplace=True)"
      ]
    },
    {
      "cell_type": "markdown",
      "metadata": {
        "id": "fPhwsGf3Q-pc"
      },
      "source": [
        "The type of variable Price is object (not integer) and contain 'RM' that should be convert into numeric."
      ]
    },
    {
      "cell_type": "code",
      "execution_count": 6,
      "metadata": {
        "id": "vz7uJV-2LIA5"
      },
      "outputs": [],
      "source": [
        "#Delete 'RM' in front of the numbers\n",
        "df['Price'] = df['Price'].str.replace('RM ','')\n",
        "#Delete space between 'RM' and the numbers\n",
        "df['Price'] = df['Price'].str.replace(',','')\n",
        "#Convert variable Price into numeric\n",
        "df['Price'] = pd.to_numeric(df['Price'])"
      ]
    },
    {
      "cell_type": "markdown",
      "metadata": {
        "id": "EHeFbJvcSP8g"
      },
      "source": [
        "Rooms represents the number or the type of room in a house. Value of Rooms not only contain the number of room in a house, but also contain operator \"+\" in type object. Operator \"+\" not functioned because the type of variable is object, therefore we should replace operator \"+\" with the result of addition these two numbers."
      ]
    },
    {
      "cell_type": "code",
      "execution_count": 7,
      "metadata": {
        "id": "KncgilhlkrYC"
      },
      "outputs": [],
      "source": [
        "#Fill NaN value with Blank\n",
        "df['Rooms'].fillna('Blank',inplace=True)\n",
        "#Replace operator + with real number\n",
        "df['Rooms'].replace('2+1','3',inplace=True)\n",
        "df['Rooms'].replace('4+1','5',inplace=True)\n",
        "df['Rooms'].replace('4+2','6',inplace=True)\n",
        "df['Rooms'].replace('3+1','4',inplace=True)\n",
        "df['Rooms'].replace('6+1','7',inplace=True)\n",
        "df['Rooms'].replace('5+1','6',inplace=True)\n",
        "df['Rooms'].replace('3+2','5',inplace=True)\n",
        "df['Rooms'].replace('1+1','2',inplace=True)\n",
        "df['Rooms'].replace('5+2','7',inplace=True)\n",
        "df['Rooms'].replace('2+2','4',inplace=True)\n",
        "df['Rooms'].replace('7+1','8',inplace=True)\n",
        "df['Rooms'].replace('6+','6',inplace=True)\n",
        "df['Rooms'].replace('7+','7',inplace=True)\n",
        "df['Rooms'].replace('1+2','3',inplace=True)\n",
        "df['Rooms'].replace('8+','8',inplace=True)\n",
        "df['Rooms'].replace('8+1','9',inplace=True)\n",
        "df['Rooms'].replace('13+','13',inplace=True)"
      ]
    },
    {
      "cell_type": "markdown",
      "metadata": {
        "id": "ke4ENSztsuHC"
      },
      "source": [
        "Bathrooms and Car Parks represents each number of bathrooms and car parks in a house. There are still NaN value in both Bathrooms and Car Parks, we can replace NaN value into 'Unknown' because no property without bathroom and car park."
      ]
    },
    {
      "cell_type": "code",
      "execution_count": 8,
      "metadata": {
        "id": "jfGozdn7KaKh"
      },
      "outputs": [],
      "source": [
        "#Fill NaN value in Bathrooms & Car Parks with Blank.\n",
        "df['Bathrooms'].fillna('Blank',inplace=True)\n",
        "df['Car Parks'].fillna('Blank',inplace=True)"
      ]
    },
    {
      "cell_type": "markdown",
      "source": [
        "For NaN value in Property Type, Size, & Furnishing replace into 'Unknown'."
      ],
      "metadata": {
        "id": "CpWOBtNUJ0Ym"
      }
    },
    {
      "cell_type": "code",
      "source": [
        "#Fill NaN value in Property Type, Size, & Furnishing with 'Unknown'.\n",
        "df['Property Type'].fillna('Unknown',inplace=True)\n",
        "df['Size'].fillna('Unknown',inplace=True)\n",
        "df['Furnishing'].fillna('Unknown',inplace=True)"
      ],
      "metadata": {
        "id": "bbm1r6VpLZ94"
      },
      "execution_count": 9,
      "outputs": []
    },
    {
      "cell_type": "markdown",
      "source": [
        "# **Univariate Analysis of Variable Price**"
      ],
      "metadata": {
        "id": "_wmJXpZyNmPA"
      }
    },
    {
      "cell_type": "markdown",
      "metadata": {
        "id": "psVtJS4plVb9"
      },
      "source": [
        "## **Descriptive Statistic**"
      ]
    },
    {
      "cell_type": "markdown",
      "source": [
        "Descriptive statistic is used to find the pattern and summary the characteristic of data. There are three types of descriptive statistic: distribution, central tendency, and variability. Distribution related to teh frequency. Central tendency related to the mean, median, and mode. While, variability related to the range, standard deviation, and variance. In this code, descriptive statistic of variable Price can be concluded in the following table:\n"
      ],
      "metadata": {
        "id": "E-V7Jnggk9h9"
      }
    },
    {
      "cell_type": "code",
      "source": [
        "#Function create table descriptive statistic\n",
        "def desc_stat(data):\n",
        "  count_data = data.count()\n",
        "  min_data = data.min()\n",
        "  max_data = data.max()\n",
        "  mean_data = round(data.mean())\n",
        "  mode_data = statistics.mode(data)\n",
        "  Q1 = np.nanquantile(data,0.25)\n",
        "  Q2 = np.nanquantile(data,0.5)\n",
        "  Q3 = np.nanquantile(data,0.75)\n",
        "  IQR = Q3 - Q1\n",
        "  low_out = Q1 - (1.5*IQR)\n",
        "  up_out = Q3 + (1.5*IQR)\n",
        "  range_data = max_data - min_data\n",
        "  stdev = np.nanstd(data)\n",
        "  skew_data = data.skew()\n",
        "  kurto_data = data.kurtosis()\n",
        "  tab ={'Item':['Count','Minimum','Maximum','Mean','Mode',\n",
        "                'Quartile 1','Median','Quartile 3','Interquartile',\n",
        "                'Lower Outlier', 'Upper Outlier','Range','Standard Dev.',\n",
        "                'Skewness','Kurtosis',],\n",
        "        'Value': [count_data,min_data, max_data, mean_data, mode_data,Q1,\n",
        "                  Q2, Q3, IQR, low_out, up_out, range_data, stdev, skew_data,\n",
        "                  kurto_data]\n",
        "      }\n",
        "\n",
        "  desc_tab = pd.DataFrame(tab)\n",
        "  print(desc_tab)\n",
        "  pd.options.display.float_format = '{:,.2f}'.format\n",
        "\n",
        "#Load variable Price into the function created above\n",
        "desc_stat(df['Price'])"
      ],
      "metadata": {
        "colab": {
          "base_uri": "https://localhost:8080/"
        },
        "id": "rYH0OPZIp_va",
        "outputId": "57a4bbab-3d90-46dc-9454-dcf9c9c2cbe6"
      },
      "execution_count": 10,
      "outputs": [
        {
          "output_type": "stream",
          "name": "stdout",
          "text": [
            "             Item         Value\n",
            "0           Count  4.964000e+03\n",
            "1         Minimum  4.080000e+02\n",
            "2         Maximum  1.300000e+08\n",
            "3            Mean  2.135928e+06\n",
            "4            Mode  1.200000e+06\n",
            "5      Quartile 1  7.000000e+05\n",
            "6          Median  1.290900e+06\n",
            "7      Quartile 3  2.480000e+06\n",
            "8   Interquartile  1.780000e+06\n",
            "9   Lower Outlier -1.970000e+06\n",
            "10  Upper Outlier  5.150000e+06\n",
            "11          Range  1.299996e+08\n",
            "12  Standard Dev.  3.404693e+06\n",
            "13       Skewness  1.521239e+01\n",
            "14       Kurtosis  4.530456e+02\n"
          ]
        }
      ]
    },
    {
      "cell_type": "markdown",
      "metadata": {
        "id": "0vz3aQDql_7v"
      },
      "source": [
        "## **Histogram**"
      ]
    },
    {
      "cell_type": "markdown",
      "source": [
        "Histogram represents the frequency distribution of continuous data in bar plot."
      ],
      "metadata": {
        "id": "ceqyolnuy1LP"
      }
    },
    {
      "cell_type": "code",
      "source": [
        "price = df['Price']"
      ],
      "metadata": {
        "id": "_ohJBFllu1zx"
      },
      "execution_count": 11,
      "outputs": []
    },
    {
      "cell_type": "code",
      "execution_count": 12,
      "metadata": {
        "id": "AbTFu-Hdl8MH",
        "colab": {
          "base_uri": "https://localhost:8080/",
          "height": 592
        },
        "outputId": "a406937b-68aa-4f06-8599-26bf2f697a8e"
      },
      "outputs": [
        {
          "output_type": "display_data",
          "data": {
            "text/plain": [
              "<Figure size 640x480 with 1 Axes>"
            ],
            "image/png": "[encoded data removed]"
          },
          "metadata": {}
        },
        {
          "output_type": "stream",
          "name": "stdout",
          "text": [
            "Mean: 2135927\n",
            "Median: 1290900\n",
            "Modus: 1200000\n",
            "Skewness: 15\n",
            "Kurtosis: 453\n"
          ]
        }
      ],
      "source": [
        "plt.style.use('fivethirtyeight')\n",
        "bins = 50\n",
        "plt.hist(price, bins=bins, edgecolor='black')\n",
        "plt.title('Histogram of Property Price')\n",
        "plt.xlabel('Price')\n",
        "plt.ylabel('Count')\n",
        "plt.ticklabel_format(useMathText=True)\n",
        "plt.show()\n",
        "\n",
        "print(\"Mean:\", int(price.mean()))\n",
        "print(\"Median:\", int(price.median()))\n",
        "print(\"Modus:\", int(statistics.mode(price)))\n",
        "print(\"Skewness:\", int(price.skew()))\n",
        "print(\"Kurtosis:\", int(price.kurtosis()))"
      ]
    },
    {
      "cell_type": "markdown",
      "metadata": {
        "id": "-sM7lOIEm1Lz"
      },
      "source": [
        "Property Price has skewed-right distribution, which means the value of mean is higher than median (mean > median > modus). Positive skewness means the distribution of data occurs on the one side with the long tail on right side. As we can see in histogram, more population of price falls in the lower-price group (< 20000000 RM) rather than a high-price group. High kurtosis indicates the data has heavier tails outliers means has outliers. If we put the price < 20000000 RM into histogram like following graph:"
      ]
    },
    {
      "cell_type": "code",
      "execution_count": 13,
      "metadata": {
        "id": "J96uvpLym2vZ",
        "colab": {
          "base_uri": "https://localhost:8080/",
          "height": 505
        },
        "outputId": "64b4b7f5-2209-412d-929f-b0d178a88692"
      },
      "outputs": [
        {
          "output_type": "display_data",
          "data": {
            "text/plain": [
              "<Figure size 640x480 with 1 Axes>"
            ],
            "image/png": "[encoded data removed]"
          },
          "metadata": {}
        }
      ],
      "source": [
        "low_price = df[df['Price'] < 20000000][['Price']]\n",
        "n_bins = 10\n",
        "counts,edges,bars = plt.hist(low_price, bins=n_bins, edgecolor='black')\n",
        "plt.title('Histogram of Property Price < 20000000 RM')\n",
        "plt.xlabel('Price')\n",
        "plt.ylabel('Count')\n",
        "plt.bar_label(bars)\n",
        "plt.ticklabel_format(useMathText=True)\n",
        "plt.rcParams['font.size'] = 12\n",
        "plt.show()"
      ]
    },
    {
      "cell_type": "markdown",
      "metadata": {
        "id": "jQInRRTKDwNF"
      },
      "source": [
        "60% of property price in Malaysia with range 408 RM - 1250000 RM."
      ]
    },
    {
      "cell_type": "markdown",
      "metadata": {
        "id": "xbm90LxeC7VW"
      },
      "source": [
        "## **Box Plot**"
      ]
    },
    {
      "cell_type": "markdown",
      "source": [
        "Box plot display five value such as minimum, first quartile, median, third quartile, and maximum of data. These number will be displayed in following graph."
      ],
      "metadata": {
        "id": "eqts17yr0bd8"
      }
    },
    {
      "cell_type": "code",
      "execution_count": 14,
      "metadata": {
        "id": "W5A2D1BNFRTy",
        "colab": {
          "base_uri": "https://localhost:8080/",
          "height": 478
        },
        "outputId": "1d9caeea-f90d-47e3-97c0-f4305c8365da"
      },
      "outputs": [
        {
          "output_type": "execute_result",
          "data": {
            "text/plain": [
              "<Axes: >"
            ]
          },
          "metadata": {},
          "execution_count": 14
        },
        {
          "output_type": "display_data",
          "data": {
            "text/plain": [
              "<Figure size 640x480 with 1 Axes>"
            ],
            "image/png": "[encoded data removed]"
          },
          "metadata": {}
        }
      ],
      "source": [
        "df.boxplot('Price')"
      ]
    },
    {
      "cell_type": "markdown",
      "metadata": {
        "id": "0Lsn2h0rLB9n"
      },
      "source": [
        "From the boxplot above, we know the data has outlier which price above"
      ]
    },
    {
      "cell_type": "markdown",
      "source": [
        "# **Univariate Analysis of Variable Rooms**"
      ],
      "metadata": {
        "id": "H_2wfJlbN-W5"
      }
    },
    {
      "cell_type": "markdown",
      "metadata": {
        "id": "5mpVx7WufV-s"
      },
      "source": [
        "# **Descriptive Data on Room Type**"
      ]
    },
    {
      "cell_type": "markdown",
      "source": [
        "Desriptive data on Room Type to find the number and the average of price each room type."
      ],
      "metadata": {
        "id": "K-ZyKtV3JqYT"
      }
    },
    {
      "cell_type": "code",
      "source": [
        "#Set indext to sort room type because variable 'Rooms' is object,\n",
        "#not integer can be sorted ascending\n",
        "custom_dict = {'1':0,'2':1,'3':2,'4':3,'5':4,'6':5,'7':6,'8':7,'9':8,\n",
        "               '10':9,'12':10,'13':11,'14':12,'20 Above':13,'Studio':14,\n",
        "               'Blank':15}\n",
        "\n",
        "#Table descriptive data room\n",
        "desc_room = df.groupby('Rooms').agg(\n",
        "    Room_Count = ('Rooms',np.size),\n",
        "    Average_Price = ('Price',np.mean)\n",
        "    ).sort_values(by=['Rooms'],key=lambda x:x.map(custom_dict))\n",
        "desc_room"
      ],
      "metadata": {
        "colab": {
          "base_uri": "https://localhost:8080/",
          "height": 583
        },
        "id": "xHJ9UY66_qUV",
        "outputId": "ec5dde41-6b9d-4101-d616-5f0e3729f58c"
      },
      "execution_count": 15,
      "outputs": [
        {
          "output_type": "execute_result",
          "data": {
            "text/plain": [
              "          Room_Count  Average_Price\n",
              "Rooms                              \n",
              "1                240     934,682.85\n",
              "2                600   1,089,985.48\n",
              "3               1190     895,459.81\n",
              "4               1304   1,650,903.17\n",
              "5                843   2,794,157.61\n",
              "6                413   4,206,820.13\n",
              "7                161   6,114,111.29\n",
              "8                 44   8,360,181.82\n",
              "9                 10  14,150,000.00\n",
              "10                 3   3,966,666.67\n",
              "12                 1  14,800,000.00\n",
              "13                 1  12,000,000.00\n",
              "14                 1  28,000,000.00\n",
              "20 Above           1   9,800,000.00\n",
              "Studio            53     586,452.81\n",
              "Blank            110   7,609,656.25"
            ],
            "text/html": [
              "\n",
              "  <div id=\"df-0c4995fa-908f-4ea4-96eb-21781a3e65fd\">\n",
              "    <div class=\"colab-df-container\">\n",
              "      <div>\n",
              "<style scoped>\n",
              "    .dataframe tbody tr th:only-of-type {\n",
              "        vertical-align: middle;\n",
              "    }\n",
              "\n",
              "    .dataframe tbody tr th {\n",
              "        vertical-align: top;\n",
              "    }\n",
              "\n",
              "    .dataframe thead th {\n",
              "        text-align: right;\n",
              "    }\n",
              "</style>\n",
              "<table border=\"1\" class=\"dataframe\">\n",
              "  <thead>\n",
              "    <tr style=\"text-align: right;\">\n",
              "      <th></th>\n",
              "      <th>Room_Count</th>\n",
              "      <th>Average_Price</th>\n",
              "    </tr>\n",
              "    <tr>\n",
              "      <th>Rooms</th>\n",
              "      <th></th>\n",
              "      <th></th>\n",
              "    </tr>\n",
              "  </thead>\n",
              "  <tbody>\n",
              "    <tr>\n",
              "      <th>1</th>\n",
              "      <td>240</td>\n",
              "      <td>934,682.85</td>\n",
              "    </tr>\n",
              "    <tr>\n",
              "      <th>2</th>\n",
              "      <td>600</td>\n",
              "      <td>1,089,985.48</td>\n",
              "    </tr>\n",
              "    <tr>\n",
              "      <th>3</th>\n",
              "      <td>1190</td>\n",
              "      <td>895,459.81</td>\n",
              "    </tr>\n",
              "    <tr>\n",
              "      <th>4</th>\n",
              "      <td>1304</td>\n",
              "      <td>1,650,903.17</td>\n",
              "    </tr>\n",
              "    <tr>\n",
              "      <th>5</th>\n",
              "      <td>843</td>\n",
              "      <td>2,794,157.61</td>\n",
              "    </tr>\n",
              "    <tr>\n",
              "      <th>6</th>\n",
              "      <td>413</td>\n",
              "      <td>4,206,820.13</td>\n",
              "    </tr>\n",
              "    <tr>\n",
              "      <th>7</th>\n",
              "      <td>161</td>\n",
              "      <td>6,114,111.29</td>\n",
              "    </tr>\n",
              "    <tr>\n",
              "      <th>8</th>\n",
              "      <td>44</td>\n",
              "      <td>8,360,181.82</td>\n",
              "    </tr>\n",
              "    <tr>\n",
              "      <th>9</th>\n",
              "      <td>10</td>\n",
              "      <td>14,150,000.00</td>\n",
              "    </tr>\n",
              "    <tr>\n",
              "      <th>10</th>\n",
              "      <td>3</td>\n",
              "      <td>3,966,666.67</td>\n",
              "    </tr>\n",
              "    <tr>\n",
              "      <th>12</th>\n",
              "      <td>1</td>\n",
              "      <td>14,800,000.00</td>\n",
              "    </tr>\n",
              "    <tr>\n",
              "      <th>13</th>\n",
              "      <td>1</td>\n",
              "      <td>12,000,000.00</td>\n",
              "    </tr>\n",
              "    <tr>\n",
              "      <th>14</th>\n",
              "      <td>1</td>\n",
              "      <td>28,000,000.00</td>\n",
              "    </tr>\n",
              "    <tr>\n",
              "      <th>20 Above</th>\n",
              "      <td>1</td>\n",
              "      <td>9,800,000.00</td>\n",
              "    </tr>\n",
              "    <tr>\n",
              "      <th>Studio</th>\n",
              "      <td>53</td>\n",
              "      <td>586,452.81</td>\n",
              "    </tr>\n",
              "    <tr>\n",
              "      <th>Blank</th>\n",
              "      <td>110</td>\n",
              "      <td>7,609,656.25</td>\n",
              "    </tr>\n",
              "  </tbody>\n",
              "</table>\n",
              "</div>\n",
              "      <button class=\"colab-df-convert\" onclick=\"convertToInteractive('df-0c4995fa-908f-4ea4-96eb-21781a3e65fd')\"\n",
              "              title=\"Convert this dataframe to an interactive table.\"\n",
              "              style=\"display:none;\">\n",
              "        \n",
              "  <svg xmlns=\"http://www.w3.org/2000/svg\" height=\"24px\"viewBox=\"0 0 24 24\"\n",
              "       width=\"24px\">\n",
              "    <path d=\"M0 0h24v24H0V0z\" fill=\"none\"/>\n",
              "    <path d=\"M18.56 5.44l.94 2.06.94-2.06 2.06-.94-2.06-.94-.94-2.06-.94 2.06-2.06.94zm-11 1L8.5 8.5l.94-2.06 2.06-.94-2.06-.94L8.5 2.5l-.94 2.06-2.06.94zm10 10l.94 2.06.94-2.06 2.06-.94-2.06-.94-.94-2.06-.94 2.06-2.06.94z\"/><path d=\"M17.41 7.96l-1.37-1.37c-.4-.4-.92-.59-1.43-.59-.52 0-1.04.2-1.43.59L10.3 9.45l-7.72 7.72c-.78.78-.78 2.05 0 2.83L4 21.41c.39.39.9.59 1.41.59.51 0 1.02-.2 1.41-.59l7.78-7.78 2.81-2.81c.8-.78.8-2.07 0-2.86zM5.41 20L4 18.59l7.72-7.72 1.47 1.35L5.41 20z\"/>\n",
              "  </svg>\n",
              "      </button>\n",
              "      \n",
              "  <style>\n",
              "    .colab-df-container {\n",
              "      display:flex;\n",
              "      flex-wrap:wrap;\n",
              "      gap: 12px;\n",
              "    }\n",
              "\n",
              "    .colab-df-convert {\n",
              "      background-color: #E8F0FE;\n",
              "      border: none;\n",
              "      border-radius: 50%;\n",
              "      cursor: pointer;\n",
              "      display: none;\n",
              "      fill: #1967D2;\n",
              "      height: 32px;\n",
              "      padding: 0 0 0 0;\n",
              "      width: 32px;\n",
              "    }\n",
              "\n",
              "    .colab-df-convert:hover {\n",
              "      background-color: #E2EBFA;\n",
              "      box-shadow: 0px 1px 2px rgba(60, 64, 67, 0.3), 0px 1px 3px 1px rgba(60, 64, 67, 0.15);\n",
              "      fill: #174EA6;\n",
              "    }\n",
              "\n",
              "    [theme=dark] .colab-df-convert {\n",
              "      background-color: #3B4455;\n",
              "      fill: #D2E3FC;\n",
              "    }\n",
              "\n",
              "    [theme=dark] .colab-df-convert:hover {\n",
              "      background-color: #434B5C;\n",
              "      box-shadow: 0px 1px 3px 1px rgba(0, 0, 0, 0.15);\n",
              "      filter: drop-shadow(0px 1px 2px rgba(0, 0, 0, 0.3));\n",
              "      fill: #FFFFFF;\n",
              "    }\n",
              "  </style>\n",
              "\n",
              "      <script>\n",
              "        const buttonEl =\n",
              "          document.querySelector('#df-0c4995fa-908f-4ea4-96eb-21781a3e65fd button.colab-df-convert');\n",
              "        buttonEl.style.display =\n",
              "          google.colab.kernel.accessAllowed ? 'block' : 'none';\n",
              "\n",
              "        async function convertToInteractive(key) {\n",
              "          const element = document.querySelector('#df-0c4995fa-908f-4ea4-96eb-21781a3e65fd');\n",
              "          const dataTable =\n",
              "            await google.colab.kernel.invokeFunction('convertToInteractive',\n",
              "                                                     [key], {});\n",
              "          if (!dataTable) return;\n",
              "\n",
              "          const docLinkHtml = 'Like what you see? Visit the ' +\n",
              "            '<a target=\"_blank\" href=https://colab.research.google.com/notebooks/data_table.ipynb>data table notebook</a>'\n",
              "            + ' to learn more about interactive tables.';\n",
              "          element.innerHTML = '';\n",
              "          dataTable['output_type'] = 'display_data';\n",
              "          await google.colab.output.renderOutput(dataTable, element);\n",
              "          const docLink = document.createElement('div');\n",
              "          docLink.innerHTML = docLinkHtml;\n",
              "          element.appendChild(docLink);\n",
              "        }\n",
              "      </script>\n",
              "    </div>\n",
              "  </div>\n",
              "  "
            ]
          },
          "metadata": {},
          "execution_count": 15
        }
      ]
    },
    {
      "cell_type": "markdown",
      "source": [
        "**Room Type Distribution**"
      ],
      "metadata": {
        "id": "siGVWrb5LwuT"
      }
    },
    {
      "cell_type": "markdown",
      "source": [
        "Distribution of room type can be seen in following graph."
      ],
      "metadata": {
        "id": "8FHn3_LmKUPG"
      }
    },
    {
      "cell_type": "code",
      "source": [
        "ax = sns.countplot(y=df['Rooms'],color='blue',order=desc_room.index)\n",
        "ax.bar_label(ax.containers[0])\n",
        "plt.ylabel('Room Type')"
      ],
      "metadata": {
        "colab": {
          "base_uri": "https://localhost:8080/",
          "height": 487
        },
        "id": "tu7mnht_c3L-",
        "outputId": "034b29a1-fe62-47ba-8cad-9910239de06f"
      },
      "execution_count": 16,
      "outputs": [
        {
          "output_type": "execute_result",
          "data": {
            "text/plain": [
              "Text(0, 0.5, 'Room Type')"
            ]
          },
          "metadata": {},
          "execution_count": 16
        },
        {
          "output_type": "display_data",
          "data": {
            "text/plain": [
              "<Figure size 640x480 with 1 Axes>"
            ],
            "image/png": "[encoded data removed]"
          },
          "metadata": {}
        }
      ]
    },
    {
      "cell_type": "markdown",
      "source": [
        "50% of property dominated by 3 and 4 rooms type."
      ],
      "metadata": {
        "id": "Q1Dx4dPpKn3h"
      }
    },
    {
      "cell_type": "markdown",
      "source": [
        "# **Univariate Analysis of Variable Furnishing**"
      ],
      "metadata": {
        "id": "IVM63inDOFZe"
      }
    },
    {
      "cell_type": "markdown",
      "source": [
        "**Descriptive Data on Furnishing Type**"
      ],
      "metadata": {
        "id": "DulNshv-MCvp"
      }
    },
    {
      "cell_type": "markdown",
      "source": [
        "Desriptive data on Furnishing Type to find the number and the average of price each furnishing type."
      ],
      "metadata": {
        "id": "dLyoARA4LOfy"
      }
    },
    {
      "cell_type": "code",
      "source": [
        "#Table descriptive data room\n",
        "desc_furnish = df.groupby('Furnishing').agg(\n",
        "    Furnish_Count = ('Furnishing',np.size),\n",
        "    Average_Price = ('Price',np.mean)\n",
        "    ).sort_values('Furnishing')\n",
        "\n",
        "desc_furnish"
      ],
      "metadata": {
        "colab": {
          "base_uri": "https://localhost:8080/",
          "height": 206
        },
        "id": "-Ly2btSCMKHr",
        "outputId": "df89e22e-32b8-45fe-d34b-6eba829f330f"
      },
      "execution_count": 17,
      "outputs": [
        {
          "output_type": "execute_result",
          "data": {
            "text/plain": [
              "                  Furnish_Count  Average_Price\n",
              "Furnishing                                    \n",
              "Fully Furnished            1253   1,801,837.97\n",
              "Partly Furnished           2658   2,250,614.97\n",
              "Unfurnished                 457   1,818,154.26\n",
              "Unknown                     607   2,562,765.08"
            ],
            "text/html": [
              "\n",
              "  <div id=\"df-04fcd6bf-37a9-495d-a3b1-5ec6a0d5fa3d\">\n",
              "    <div class=\"colab-df-container\">\n",
              "      <div>\n",
              "<style scoped>\n",
              "    .dataframe tbody tr th:only-of-type {\n",
              "        vertical-align: middle;\n",
              "    }\n",
              "\n",
              "    .dataframe tbody tr th {\n",
              "        vertical-align: top;\n",
              "    }\n",
              "\n",
              "    .dataframe thead th {\n",
              "        text-align: right;\n",
              "    }\n",
              "</style>\n",
              "<table border=\"1\" class=\"dataframe\">\n",
              "  <thead>\n",
              "    <tr style=\"text-align: right;\">\n",
              "      <th></th>\n",
              "      <th>Furnish_Count</th>\n",
              "      <th>Average_Price</th>\n",
              "    </tr>\n",
              "    <tr>\n",
              "      <th>Furnishing</th>\n",
              "      <th></th>\n",
              "      <th></th>\n",
              "    </tr>\n",
              "  </thead>\n",
              "  <tbody>\n",
              "    <tr>\n",
              "      <th>Fully Furnished</th>\n",
              "      <td>1253</td>\n",
              "      <td>1,801,837.97</td>\n",
              "    </tr>\n",
              "    <tr>\n",
              "      <th>Partly Furnished</th>\n",
              "      <td>2658</td>\n",
              "      <td>2,250,614.97</td>\n",
              "    </tr>\n",
              "    <tr>\n",
              "      <th>Unfurnished</th>\n",
              "      <td>457</td>\n",
              "      <td>1,818,154.26</td>\n",
              "    </tr>\n",
              "    <tr>\n",
              "      <th>Unknown</th>\n",
              "      <td>607</td>\n",
              "      <td>2,562,765.08</td>\n",
              "    </tr>\n",
              "  </tbody>\n",
              "</table>\n",
              "</div>\n",
              "      <button class=\"colab-df-convert\" onclick=\"convertToInteractive('df-04fcd6bf-37a9-495d-a3b1-5ec6a0d5fa3d')\"\n",
              "              title=\"Convert this dataframe to an interactive table.\"\n",
              "              style=\"display:none;\">\n",
              "        \n",
              "  <svg xmlns=\"http://www.w3.org/2000/svg\" height=\"24px\"viewBox=\"0 0 24 24\"\n",
              "       width=\"24px\">\n",
              "    <path d=\"M0 0h24v24H0V0z\" fill=\"none\"/>\n",
              "    <path d=\"M18.56 5.44l.94 2.06.94-2.06 2.06-.94-2.06-.94-.94-2.06-.94 2.06-2.06.94zm-11 1L8.5 8.5l.94-2.06 2.06-.94-2.06-.94L8.5 2.5l-.94 2.06-2.06.94zm10 10l.94 2.06.94-2.06 2.06-.94-2.06-.94-.94-2.06-.94 2.06-2.06.94z\"/><path d=\"M17.41 7.96l-1.37-1.37c-.4-.4-.92-.59-1.43-.59-.52 0-1.04.2-1.43.59L10.3 9.45l-7.72 7.72c-.78.78-.78 2.05 0 2.83L4 21.41c.39.39.9.59 1.41.59.51 0 1.02-.2 1.41-.59l7.78-7.78 2.81-2.81c.8-.78.8-2.07 0-2.86zM5.41 20L4 18.59l7.72-7.72 1.47 1.35L5.41 20z\"/>\n",
              "  </svg>\n",
              "      </button>\n",
              "      \n",
              "  <style>\n",
              "    .colab-df-container {\n",
              "      display:flex;\n",
              "      flex-wrap:wrap;\n",
              "      gap: 12px;\n",
              "    }\n",
              "\n",
              "    .colab-df-convert {\n",
              "      background-color: #E8F0FE;\n",
              "      border: none;\n",
              "      border-radius: 50%;\n",
              "      cursor: pointer;\n",
              "      display: none;\n",
              "      fill: #1967D2;\n",
              "      height: 32px;\n",
              "      padding: 0 0 0 0;\n",
              "      width: 32px;\n",
              "    }\n",
              "\n",
              "    .colab-df-convert:hover {\n",
              "      background-color: #E2EBFA;\n",
              "      box-shadow: 0px 1px 2px rgba(60, 64, 67, 0.3), 0px 1px 3px 1px rgba(60, 64, 67, 0.15);\n",
              "      fill: #174EA6;\n",
              "    }\n",
              "\n",
              "    [theme=dark] .colab-df-convert {\n",
              "      background-color: #3B4455;\n",
              "      fill: #D2E3FC;\n",
              "    }\n",
              "\n",
              "    [theme=dark] .colab-df-convert:hover {\n",
              "      background-color: #434B5C;\n",
              "      box-shadow: 0px 1px 3px 1px rgba(0, 0, 0, 0.15);\n",
              "      filter: drop-shadow(0px 1px 2px rgba(0, 0, 0, 0.3));\n",
              "      fill: #FFFFFF;\n",
              "    }\n",
              "  </style>\n",
              "\n",
              "      <script>\n",
              "        const buttonEl =\n",
              "          document.querySelector('#df-04fcd6bf-37a9-495d-a3b1-5ec6a0d5fa3d button.colab-df-convert');\n",
              "        buttonEl.style.display =\n",
              "          google.colab.kernel.accessAllowed ? 'block' : 'none';\n",
              "\n",
              "        async function convertToInteractive(key) {\n",
              "          const element = document.querySelector('#df-04fcd6bf-37a9-495d-a3b1-5ec6a0d5fa3d');\n",
              "          const dataTable =\n",
              "            await google.colab.kernel.invokeFunction('convertToInteractive',\n",
              "                                                     [key], {});\n",
              "          if (!dataTable) return;\n",
              "\n",
              "          const docLinkHtml = 'Like what you see? Visit the ' +\n",
              "            '<a target=\"_blank\" href=https://colab.research.google.com/notebooks/data_table.ipynb>data table notebook</a>'\n",
              "            + ' to learn more about interactive tables.';\n",
              "          element.innerHTML = '';\n",
              "          dataTable['output_type'] = 'display_data';\n",
              "          await google.colab.output.renderOutput(dataTable, element);\n",
              "          const docLink = document.createElement('div');\n",
              "          docLink.innerHTML = docLinkHtml;\n",
              "          element.appendChild(docLink);\n",
              "        }\n",
              "      </script>\n",
              "    </div>\n",
              "  </div>\n",
              "  "
            ]
          },
          "metadata": {},
          "execution_count": 17
        }
      ]
    },
    {
      "cell_type": "code",
      "source": [
        "sum(desc_furnish['Furnish_Count'])"
      ],
      "metadata": {
        "colab": {
          "base_uri": "https://localhost:8080/"
        },
        "id": "uZGWyjB8LXVG",
        "outputId": "84670b61-bf71-4fdf-a5fa-00a9023d7fa3"
      },
      "execution_count": 18,
      "outputs": [
        {
          "output_type": "execute_result",
          "data": {
            "text/plain": [
              "4975"
            ]
          },
          "metadata": {},
          "execution_count": 18
        }
      ]
    },
    {
      "cell_type": "markdown",
      "source": [
        "**Furnishing Type Distribution**"
      ],
      "metadata": {
        "id": "30SLPx-hL9Ti"
      }
    },
    {
      "cell_type": "markdown",
      "source": [
        "Distribution of furnishing type can be seen in following graph."
      ],
      "metadata": {
        "id": "jpcN12maKgkU"
      }
    },
    {
      "cell_type": "code",
      "source": [
        "ax = sns.countplot(x=df['Furnishing'],color='blue',order=desc_furnish.index)\n",
        "ax.bar_label(ax.containers[0])"
      ],
      "metadata": {
        "id": "8s5V3xArPaHG",
        "colab": {
          "base_uri": "https://localhost:8080/",
          "height": 487
        },
        "outputId": "900f5bed-bf90-4660-dddd-d9069c15a499"
      },
      "execution_count": 19,
      "outputs": [
        {
          "output_type": "execute_result",
          "data": {
            "text/plain": [
              "[Text(0, 0, '1253'), Text(0, 0, '2658'), Text(0, 0, '457'), Text(0, 0, '607')]"
            ]
          },
          "metadata": {},
          "execution_count": 19
        },
        {
          "output_type": "display_data",
          "data": {
            "text/plain": [
              "<Figure size 640x480 with 1 Axes>"
            ],
            "image/png": "[encoded data removed]"
          },
          "metadata": {}
        }
      ]
    },
    {
      "cell_type": "markdown",
      "source": [
        "50% of property dominated by partly furnished."
      ],
      "metadata": {
        "id": "wfXLYH2ULsx1"
      }
    }
  ],
  "metadata": {
    "colab": {
      "provenance": [],
      "authorship_tag": "ABX9TyOIqXT11A+smyE7V3hTjzFl",
      "include_colab_link": true
    },
    "kernelspec": {
      "display_name": "Python 3",
      "name": "python3"
    },
    "language_info": {
      "name": "python"
    }
  },
  "nbformat": 4,
  "nbformat_minor": 0
}